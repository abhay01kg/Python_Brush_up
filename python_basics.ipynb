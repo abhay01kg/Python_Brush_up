{
 "cells": [
  {
   "cell_type": "code",
   "execution_count": 1,
   "id": "facf6eb2-68eb-4184-aff1-ae6491c96e8e",
   "metadata": {},
   "outputs": [
    {
     "name": "stdout",
     "output_type": "stream",
     "text": [
      "letsgo\n"
     ]
    }
   ],
   "source": [
    "print('letsgo')"
   ]
  },
  {
   "cell_type": "code",
   "execution_count": 3,
   "id": "8908b75c-510e-44f5-aa77-ec60d63605d4",
   "metadata": {},
   "outputs": [
    {
     "name": "stdout",
     "output_type": "stream",
     "text": [
      "23\n"
     ]
    }
   ],
   "source": [
    " x = '2'\n",
    "y = '3'\n",
    "\n",
    "print(x+y)"
   ]
  },
  {
   "cell_type": "code",
   "execution_count": 125,
   "id": "8e74d5d8-12dd-4f5f-9963-219e1b1ad356",
   "metadata": {},
   "outputs": [
    {
     "name": "stdout",
     "output_type": "stream",
     "text": [
      "\n",
      "My nane us ABhay\n",
      "and I am the best\n",
      "and I am dumb\n",
      "\n"
     ]
    }
   ],
   "source": [
    "var = \"\"\"\n",
    "My nane us ABhay\n",
    "and I am the best\n",
    "and I am dumb\n",
    "\"\"\"\n",
    "print(var)"
   ]
  },
  {
   "cell_type": "code",
   "execution_count": 11,
   "id": "c5a74a6d-8c29-44ce-90e0-9677dd47cdcf",
   "metadata": {},
   "outputs": [
    {
     "data": {
      "text/plain": [
       "str"
      ]
     },
     "execution_count": 11,
     "metadata": {},
     "output_type": "execute_result"
    }
   ],
   "source": [
    "type(var)"
   ]
  },
  {
   "cell_type": "code",
   "execution_count": 141,
   "id": "f2bd24d1-a9cd-4976-accc-c83bf6ca30b4",
   "metadata": {},
   "outputs": [],
   "source": [
    "list_A = [1,2,4,5]\n",
    "list_A.append(1000)"
   ]
  },
  {
   "cell_type": "code",
   "execution_count": 143,
   "id": "19cd18b7-da10-4944-8802-73df5b9a6481",
   "metadata": {},
   "outputs": [
    {
     "data": {
      "text/plain": [
       "[1, 2, 4, 5, 1000]"
      ]
     },
     "execution_count": 143,
     "metadata": {},
     "output_type": "execute_result"
    }
   ],
   "source": [
    "list_A"
   ]
  },
  {
   "cell_type": "code",
   "execution_count": 145,
   "id": "4eb3e00f-8d92-4c1c-b575-dfe110b1b164",
   "metadata": {},
   "outputs": [
    {
     "data": {
      "text/plain": [
       "[1, 2, 4, 5.0, 1000]"
      ]
     },
     "execution_count": 145,
     "metadata": {},
     "output_type": "execute_result"
    }
   ],
   "source": [
    "list_A[3]= 5.000\n",
    "list_A"
   ]
  },
  {
   "cell_type": "code",
   "execution_count": 149,
   "id": "de6a5e74-e71d-485d-8194-eb004119ab49",
   "metadata": {},
   "outputs": [],
   "source": [
    "tuple_a= (1,2,3,43,4,4)"
   ]
  },
  {
   "cell_type": "code",
   "execution_count": 155,
   "id": "a556aa54-0eb0-4af4-a61a-51c2fbdfe951",
   "metadata": {},
   "outputs": [
    {
     "ename": "TypeError",
     "evalue": "'tuple' object does not support item assignment",
     "output_type": "error",
     "traceback": [
      "\u001b[0;31m---------------------------------------------------------------------------\u001b[0m",
      "\u001b[0;31mTypeError\u001b[0m                                 Traceback (most recent call last)",
      "Cell \u001b[0;32mIn[155], line 1\u001b[0m\n\u001b[0;32m----> 1\u001b[0m tuple_a[\u001b[38;5;241m0\u001b[39m]\u001b[38;5;241m=\u001b[39m\u001b[38;5;241m1\u001b[39m\n",
      "\u001b[0;31mTypeError\u001b[0m: 'tuple' object does not support item assignment"
     ]
    }
   ],
   "source": [
    "tuple_a[0]=1"
   ]
  },
  {
   "cell_type": "code",
   "execution_count": null,
   "id": "f2c64591-e8e7-4f1c-bb85-77c84297e229",
   "metadata": {},
   "outputs": [],
   "source": [
    "#dictionary"
   ]
  },
  {
   "cell_type": "code",
   "execution_count": 71,
   "id": "7c443df4-3388-47f4-a8a5-6642022081d1",
   "metadata": {},
   "outputs": [],
   "source": [
    "dict_a= {\"name\": \"Abhay\", \"rollno\": \"1234\", \"desc\": \"lets go hola amigi 1234^^\"}"
   ]
  },
  {
   "cell_type": "code",
   "execution_count": 73,
   "id": "928d1516-976e-4a2b-a738-e792214fe084",
   "metadata": {},
   "outputs": [
    {
     "name": "stdout",
     "output_type": "stream",
     "text": [
      "{'name': 'Abhay', 'rollno': '1234', 'desc': 'lets go hola amigi 1234^^'}\n"
     ]
    }
   ],
   "source": [
    "print(dict_a)"
   ]
  },
  {
   "cell_type": "code",
   "execution_count": 75,
   "id": "6d456ec6-87ca-4c76-8dac-7bcdb4d6e715",
   "metadata": {},
   "outputs": [
    {
     "data": {
      "text/plain": [
       "'lets go hola amigi 1234^^'"
      ]
     },
     "execution_count": 75,
     "metadata": {},
     "output_type": "execute_result"
    }
   ],
   "source": [
    "dict_a['desc']"
   ]
  },
  {
   "cell_type": "code",
   "execution_count": 77,
   "id": "4f0aa14b-9c2f-4356-8603-6ba264e5ac19",
   "metadata": {},
   "outputs": [],
   "source": [
    "dict_a['desc'] = 'changed desc'"
   ]
  },
  {
   "cell_type": "code",
   "execution_count": 79,
   "id": "a7e58c6f-4165-4725-8901-d7937cb0aef3",
   "metadata": {},
   "outputs": [
    {
     "data": {
      "text/plain": [
       "{'name': 'Abhay', 'rollno': '1234', 'desc': 'changed desc'}"
      ]
     },
     "execution_count": 79,
     "metadata": {},
     "output_type": "execute_result"
    }
   ],
   "source": [
    "dict_a\n"
   ]
  },
  {
   "cell_type": "code",
   "execution_count": 81,
   "id": "04b7b34a-433d-493b-9940-505a6571be5b",
   "metadata": {},
   "outputs": [],
   "source": [
    "dict_a.update({\"first_name\": 'Abhay'})"
   ]
  },
  {
   "cell_type": "code",
   "execution_count": 83,
   "id": "fbe7349f-dc75-4641-8ceb-9ff799f6633f",
   "metadata": {},
   "outputs": [
    {
     "data": {
      "text/plain": [
       "{'name': 'Abhay',\n",
       " 'rollno': '1234',\n",
       " 'desc': 'changed desc',\n",
       " 'first_name': 'Abhay'}"
      ]
     },
     "execution_count": 83,
     "metadata": {},
     "output_type": "execute_result"
    }
   ],
   "source": [
    "dict_a"
   ]
  },
  {
   "cell_type": "code",
   "execution_count": 85,
   "id": "24414ca3-56bb-45d0-adbe-d1e9f4e64f7a",
   "metadata": {},
   "outputs": [],
   "source": [
    "dict_a.update({\"name\": 'aaabhay'})"
   ]
  },
  {
   "cell_type": "code",
   "execution_count": 87,
   "id": "c638699f-3221-4019-8547-54a150f565bd",
   "metadata": {},
   "outputs": [
    {
     "data": {
      "text/plain": [
       "{'name': 'aaabhay',\n",
       " 'rollno': '1234',\n",
       " 'desc': 'changed desc',\n",
       " 'first_name': 'Abhay'}"
      ]
     },
     "execution_count": 87,
     "metadata": {},
     "output_type": "execute_result"
    }
   ],
   "source": [
    "dict_a\n"
   ]
  },
  {
   "cell_type": "code",
   "execution_count": 89,
   "id": "4b36033f-d2fd-4869-9723-78dc4ee51e79",
   "metadata": {},
   "outputs": [],
   "source": [
    "del dict_a['first_name']"
   ]
  },
  {
   "cell_type": "code",
   "execution_count": 91,
   "id": "92c93c81-9263-4372-b786-d2f2559e3395",
   "metadata": {},
   "outputs": [
    {
     "data": {
      "text/plain": [
       "{'name': 'aaabhay', 'rollno': '1234', 'desc': 'changed desc'}"
      ]
     },
     "execution_count": 91,
     "metadata": {},
     "output_type": "execute_result"
    }
   ],
   "source": [
    "dict_a"
   ]
  },
  {
   "cell_type": "code",
   "execution_count": 119,
   "id": "877dd47b-fb2a-4c50-82ff-82c8723d8d45",
   "metadata": {},
   "outputs": [],
   "source": [
    "#set"
   ]
  },
  {
   "cell_type": "code",
   "execution_count": 93,
   "id": "95ec41db-aeae-4947-8c60-fd6682bf7e9c",
   "metadata": {},
   "outputs": [],
   "source": [
    "set_A ={1.2, 1.6, 1.2, 1.999, 1, 2,6,7,9,0.0001}\n",
    "set_B ={1.2, 1.6, 1.999, 11, 12, 13}"
   ]
  },
  {
   "cell_type": "code",
   "execution_count": 95,
   "id": "70b2912a-101c-4f6f-929b-0dbc0e36db09",
   "metadata": {},
   "outputs": [
    {
     "data": {
      "text/plain": [
       "{0.0001, 1, 1.2, 1.6, 1.999, 2, 6, 7, 9}"
      ]
     },
     "execution_count": 95,
     "metadata": {},
     "output_type": "execute_result"
    }
   ],
   "source": [
    "set_A\n"
   ]
  },
  {
   "cell_type": "code",
   "execution_count": 97,
   "id": "78619969-f2a7-4e25-bd7d-01e08e9386ac",
   "metadata": {},
   "outputs": [
    {
     "data": {
      "text/plain": [
       "{1.2, 1.6, 1.999, 11, 12, 13}"
      ]
     },
     "execution_count": 97,
     "metadata": {},
     "output_type": "execute_result"
    }
   ],
   "source": [
    "set_B"
   ]
  },
  {
   "cell_type": "code",
   "execution_count": 99,
   "id": "548ebda0-c94b-4305-9db7-5430eb4d5fe2",
   "metadata": {},
   "outputs": [
    {
     "data": {
      "text/plain": [
       "{0.0001, 1, 1.2, 1.6, 1.999, 2, 6, 7, 9, 11, 12, 13}"
      ]
     },
     "execution_count": 99,
     "metadata": {},
     "output_type": "execute_result"
    }
   ],
   "source": [
    "set_A|set_B  #union"
   ]
  },
  {
   "cell_type": "code",
   "execution_count": 101,
   "id": "5bc4a57e-c30e-47e3-abe5-6250327ff810",
   "metadata": {},
   "outputs": [
    {
     "data": {
      "text/plain": [
       "{1.2, 1.6, 1.999}"
      ]
     },
     "execution_count": 101,
     "metadata": {},
     "output_type": "execute_result"
    }
   ],
   "source": [
    "set_A & set_B #intersection"
   ]
  },
  {
   "cell_type": "code",
   "execution_count": 103,
   "id": "b1a0254a-31d6-4337-bcb7-df7bfc65ded1",
   "metadata": {},
   "outputs": [
    {
     "data": {
      "text/plain": [
       "{0.0001, 1, 2, 6, 7, 9}"
      ]
     },
     "execution_count": 103,
     "metadata": {},
     "output_type": "execute_result"
    }
   ],
   "source": [
    "set_A-set_B"
   ]
  },
  {
   "cell_type": "code",
   "execution_count": 105,
   "id": "a41785de-63a8-46db-ab62-25044bfd173d",
   "metadata": {},
   "outputs": [
    {
     "data": {
      "text/plain": [
       "{0.0001, 1, 2, 6, 7, 9, 11, 12, 13}"
      ]
     },
     "execution_count": 105,
     "metadata": {},
     "output_type": "execute_result"
    }
   ],
   "source": [
    "set_A ^ set_B"
   ]
  },
  {
   "cell_type": "code",
   "execution_count": 107,
   "id": "b31add66-5190-416c-934d-ed58f74a689f",
   "metadata": {},
   "outputs": [
    {
     "data": {
      "text/plain": [
       "{0.0001, 1, 2, 6, 7, 9, 11, 12, 13}"
      ]
     },
     "execution_count": 107,
     "metadata": {},
     "output_type": "execute_result"
    }
   ],
   "source": [
    "(set_A|set_B) - (set_A & set_B)"
   ]
  },
  {
   "cell_type": "code",
   "execution_count": null,
   "id": "aabecd92-a53e-4a62-8908-d267341425ef",
   "metadata": {},
   "outputs": [],
   "source": []
  },
  {
   "cell_type": "code",
   "execution_count": null,
   "id": "95ee8fd1-f448-44a9-a728-90f1e5aad0bc",
   "metadata": {},
   "outputs": [],
   "source": []
  },
  {
   "cell_type": "code",
   "execution_count": 296,
   "id": "5eddc061-ea93-4ece-84e2-0403dc123865",
   "metadata": {},
   "outputs": [
    {
     "data": {
      "text/plain": [
       "True"
      ]
     },
     "execution_count": 296,
     "metadata": {},
     "output_type": "execute_result"
    }
   ],
   "source": [
    "list_b =[1,2,3,4,5,8,9,10]\n",
    "var =1\n",
    "var in list_b"
   ]
  },
  {
   "cell_type": "code",
   "execution_count": 115,
   "id": "08720897-f163-4716-b302-20d3cf6f7e52",
   "metadata": {},
   "outputs": [
    {
     "data": {
      "text/plain": [
       "True"
      ]
     },
     "execution_count": 115,
     "metadata": {},
     "output_type": "execute_result"
    }
   ],
   "source": [
    "string = 'Abhay'\n",
    "'a' in string"
   ]
  },
  {
   "cell_type": "code",
   "execution_count": 117,
   "id": "822fbb58-1182-40b7-a03b-d4ee9e0fc6ea",
   "metadata": {},
   "outputs": [
    {
     "data": {
      "text/plain": [
       "False"
      ]
     },
     "execution_count": 117,
     "metadata": {},
     "output_type": "execute_result"
    }
   ],
   "source": [
    "'z' in string"
   ]
  },
  {
   "cell_type": "code",
   "execution_count": 157,
   "id": "bdeba3f6-52c9-4a5c-8dfd-ba065ba1f8af",
   "metadata": {},
   "outputs": [
    {
     "name": "stdout",
     "output_type": "stream",
     "text": [
      "2\n",
      "4\n",
      "6\n",
      "8\n",
      "10\n"
     ]
    }
   ],
   "source": [
    "integers=[1,2,3,4,5]\n",
    "\n",
    "for i in integers:\n",
    "    print(i+i)"
   ]
  },
  {
   "cell_type": "code",
   "execution_count": 159,
   "id": "458deeb2-e587-4581-9262-7437811577a7",
   "metadata": {},
   "outputs": [
    {
     "data": {
      "text/plain": [
       "{'name': 'aaabhay', 'rollno': '1234', 'desc': 'changed desc'}"
      ]
     },
     "execution_count": 159,
     "metadata": {},
     "output_type": "execute_result"
    }
   ],
   "source": [
    "dict_a\n"
   ]
  },
  {
   "cell_type": "code",
   "execution_count": 161,
   "id": "75969d3d-1593-4ba4-af81-60f3ca178b6a",
   "metadata": {},
   "outputs": [
    {
     "name": "stdout",
     "output_type": "stream",
     "text": [
      "aaabhay\n",
      "1234\n",
      "changed desc\n"
     ]
    }
   ],
   "source": [
    "for i in dict_a.values():\n",
    "    print(i)"
   ]
  },
  {
   "cell_type": "code",
   "execution_count": 163,
   "id": "eb0f33e8-981c-4eb7-9fe2-a4bf4517788d",
   "metadata": {},
   "outputs": [
    {
     "name": "stdout",
     "output_type": "stream",
     "text": [
      "name\n",
      "rollno\n",
      "desc\n"
     ]
    }
   ],
   "source": [
    "for i in dict_a.keys():\n",
    "    print(i)"
   ]
  },
  {
   "cell_type": "code",
   "execution_count": 165,
   "id": "4f0288fa-1730-4290-8ad1-301e1dccdeea",
   "metadata": {},
   "outputs": [
    {
     "name": "stdout",
     "output_type": "stream",
     "text": [
      "('name', 'aaabhay')\n",
      "('rollno', '1234')\n",
      "('desc', 'changed desc')\n"
     ]
    }
   ],
   "source": [
    "for i in dict_a.items():\n",
    "    print(i)"
   ]
  },
  {
   "cell_type": "code",
   "execution_count": 167,
   "id": "0af47ab5-df46-496e-bb9b-a7c3bec9973d",
   "metadata": {},
   "outputs": [
    {
     "data": {
      "text/plain": [
       "tuple"
      ]
     },
     "execution_count": 167,
     "metadata": {},
     "output_type": "execute_result"
    }
   ],
   "source": [
    "type(i)"
   ]
  },
  {
   "cell_type": "code",
   "execution_count": 169,
   "id": "94fa1053-a1e0-4847-a0c1-168222774489",
   "metadata": {},
   "outputs": [
    {
     "name": "stdout",
     "output_type": "stream",
     "text": [
      "name -> aaabhay\n",
      "rollno -> 1234\n",
      "desc -> changed desc\n"
     ]
    }
   ],
   "source": [
    "for key, value in dict_a.items():\n",
    "    print(key+' -> '+value)"
   ]
  },
  {
   "cell_type": "code",
   "execution_count": 175,
   "id": "343ae127-b06a-4e1e-8240-92ea4b3b92de",
   "metadata": {},
   "outputs": [],
   "source": [
    "def multiply(num1, num2):\n",
    "    print(num1*num2)"
   ]
  },
  {
   "cell_type": "code",
   "execution_count": 177,
   "id": "af159934-1e4f-443a-a858-51bff5d45802",
   "metadata": {},
   "outputs": [
    {
     "name": "stdout",
     "output_type": "stream",
     "text": [
      "2\n"
     ]
    }
   ],
   "source": [
    "multiply(1,2)"
   ]
  },
  {
   "cell_type": "code",
   "execution_count": 224,
   "id": "74b6e474-58ae-4f1b-a50f-25660dbe59fa",
   "metadata": {},
   "outputs": [],
   "source": [
    "def my_function(*kid):\n",
    "    print('the second kid in the list is: '+ kid[1])\n",
    "    print(type(kid))\n",
    "    "
   ]
  },
  {
   "cell_type": "code",
   "execution_count": 226,
   "id": "b0093e53-8139-496b-923e-0845c99f2936",
   "metadata": {},
   "outputs": [
    {
     "name": "stdout",
     "output_type": "stream",
     "text": [
      "the second kid in the list is: xyz\n",
      "<class 'tuple'>\n"
     ]
    }
   ],
   "source": [
    "my_function(\"an\", \"xyz\", \"axa\")"
   ]
  },
  {
   "cell_type": "code",
   "execution_count": null,
   "id": "dd06db43-a9c6-4211-9710-32ad3aa21be0",
   "metadata": {},
   "outputs": [],
   "source": [
    "\n",
    "\n"
   ]
  },
  {
   "cell_type": "code",
   "execution_count": 242,
   "id": "749bbdee-027c-4db3-9931-1418eabeedde",
   "metadata": {},
   "outputs": [
    {
     "data": {
      "text/plain": [
       "str"
      ]
     },
     "execution_count": 242,
     "metadata": {},
     "output_type": "execute_result"
    }
   ],
   "source": [
    "string_a = '12333'\n",
    "type(string_a)"
   ]
  },
  {
   "cell_type": "code",
   "execution_count": 246,
   "id": "23fad326-7f38-4eca-89dc-304adf5c297c",
   "metadata": {},
   "outputs": [
    {
     "data": {
      "text/plain": [
       "int"
      ]
     },
     "execution_count": 246,
     "metadata": {},
     "output_type": "execute_result"
    }
   ],
   "source": [
    "string_a = int(string_a)\n",
    "type(string_a)"
   ]
  },
  {
   "cell_type": "code",
   "execution_count": 248,
   "id": "d3b19729-3695-40b1-a109-5d91101b726f",
   "metadata": {},
   "outputs": [
    {
     "data": {
      "text/plain": [
       "list"
      ]
     },
     "execution_count": 248,
     "metadata": {},
     "output_type": "execute_result"
    }
   ],
   "source": [
    "list_a = [1,2,3,4,4,4,6,7,7,8,8,9,10]\n",
    "type(list_a)"
   ]
  },
  {
   "cell_type": "code",
   "execution_count": 250,
   "id": "b5119090-2acc-4beb-908d-a25da39d1519",
   "metadata": {},
   "outputs": [
    {
     "name": "stdout",
     "output_type": "stream",
     "text": [
      "(1, 2, 3, 4, 4, 4, 6, 7, 7, 8, 8, 9, 10)\n"
     ]
    },
    {
     "data": {
      "text/plain": [
       "tuple"
      ]
     },
     "execution_count": 250,
     "metadata": {},
     "output_type": "execute_result"
    }
   ],
   "source": [
    "tuple_a = tuple(list_a)\n",
    "print(tuple_a)\n",
    "type(tuple_a)"
   ]
  },
  {
   "cell_type": "code",
   "execution_count": 252,
   "id": "24a1fb5c-c178-44f0-9b3b-8dbdc9f20b07",
   "metadata": {},
   "outputs": [
    {
     "name": "stdout",
     "output_type": "stream",
     "text": [
      "{1, 2, 3, 4, 6, 7, 8, 9, 10}\n"
     ]
    }
   ],
   "source": [
    "set_a = set(tuple_a)\n",
    "print(set_a)"
   ]
  },
  {
   "cell_type": "code",
   "execution_count": 254,
   "id": "b7e84ff7-7c6a-46c6-b60e-387e92e35cce",
   "metadata": {},
   "outputs": [
    {
     "data": {
      "text/plain": [
       "{'name': 'aaabhay', 'rollno': '1234', 'desc': 'changed desc'}"
      ]
     },
     "execution_count": 254,
     "metadata": {},
     "output_type": "execute_result"
    }
   ],
   "source": [
    "dict_a"
   ]
  },
  {
   "cell_type": "code",
   "execution_count": 268,
   "id": "174f85a7-7006-48a0-91c2-6822a407ba46",
   "metadata": {},
   "outputs": [
    {
     "data": {
      "text/plain": [
       "dict_values(['aaabhay', '1234', 'changed desc'])"
      ]
     },
     "execution_count": 268,
     "metadata": {},
     "output_type": "execute_result"
    }
   ],
   "source": [
    "keys = dict_a.values()\n",
    "keys\n"
   ]
  },
  {
   "cell_type": "code",
   "execution_count": 270,
   "id": "4a014879-9e3a-4132-b3e4-a8aecac9211c",
   "metadata": {},
   "outputs": [
    {
     "data": {
      "text/plain": [
       "dict_values"
      ]
     },
     "execution_count": 270,
     "metadata": {},
     "output_type": "execute_result"
    }
   ],
   "source": [
    "type(keys)"
   ]
  },
  {
   "cell_type": "code",
   "execution_count": 274,
   "id": "01c7dbb9-4367-44f6-acbd-5e6e6c6a5ef0",
   "metadata": {},
   "outputs": [
    {
     "data": {
      "text/plain": [
       "('aaabhay', '1234', 'changed desc')"
      ]
     },
     "execution_count": 274,
     "metadata": {},
     "output_type": "execute_result"
    }
   ],
   "source": [
    "tuple(keys)"
   ]
  },
  {
   "cell_type": "code",
   "execution_count": 276,
   "id": "7f1f34a7-21c6-4549-b2fa-1bbd9d0bb18b",
   "metadata": {},
   "outputs": [
    {
     "data": {
      "text/plain": [
       "{'name': 'aaabhay', 'rollno': '1234', 'desc': 'changed desc'}"
      ]
     },
     "execution_count": 276,
     "metadata": {},
     "output_type": "execute_result"
    }
   ],
   "source": [
    "dict_a"
   ]
  },
  {
   "cell_type": "code",
   "execution_count": 306,
   "id": "16070b8c-cc4b-410a-a483-f38de584c03b",
   "metadata": {},
   "outputs": [
    {
     "data": {
      "text/plain": [
       "['name', 'rollno', 'desc']"
      ]
     },
     "execution_count": 306,
     "metadata": {},
     "output_type": "execute_result"
    }
   ],
   "source": [
    "list(dict_a.keys())"
   ]
  },
  {
   "cell_type": "code",
   "execution_count": 286,
   "id": "15144f0b-4fee-43cf-aad8-5cb2dd46e6d0",
   "metadata": {},
   "outputs": [
    {
     "name": "stdout",
     "output_type": "stream",
     "text": [
      "hi\n"
     ]
    }
   ],
   "source": [
    "print('hi')"
   ]
  },
  {
   "cell_type": "code",
   "execution_count": 304,
   "id": "a06221ed-739a-4dcd-9e3b-9bae46fa6ee9",
   "metadata": {
    "scrolled": true
   },
   "outputs": [
    {
     "data": {
      "text/plain": [
       "['i',\n",
       " 't',\n",
       " 's',\n",
       " ' ',\n",
       " 'a',\n",
       " ' ',\n",
       " 'v',\n",
       " 'e',\n",
       " 'r',\n",
       " 'y',\n",
       " ' ',\n",
       " 'l',\n",
       " 'o',\n",
       " 'n',\n",
       " 'g',\n",
       " ' ',\n",
       " 's',\n",
       " 't',\n",
       " 'r',\n",
       " 'i',\n",
       " 'n',\n",
       " 'g']"
      ]
     },
     "execution_count": 304,
     "metadata": {},
     "output_type": "execute_result"
    }
   ],
   "source": [
    "my_str =  'its a very long string'\n",
    "list(my_str)"
   ]
  },
  {
   "cell_type": "code",
   "execution_count": 302,
   "id": "7c74c9e4-be84-4001-8a30-3c0c024ba6b8",
   "metadata": {},
   "outputs": [],
   "source": [
    "del list"
   ]
  },
  {
   "cell_type": "code",
   "execution_count": 308,
   "id": "c090c69f-05ce-4b3b-8851-38167216887e",
   "metadata": {},
   "outputs": [
    {
     "data": {
      "text/plain": [
       "{' ', 'a', 'e', 'g', 'i', 'l', 'n', 'o', 'r', 's', 't', 'v', 'y'}"
      ]
     },
     "execution_count": 308,
     "metadata": {},
     "output_type": "execute_result"
    }
   ],
   "source": [
    "set(my_str)"
   ]
  },
  {
   "cell_type": "code",
   "execution_count": null,
   "id": "f3e7ac5e-661d-4b4a-931f-b48abf3a3d97",
   "metadata": {},
   "outputs": [],
   "source": []
  },
  {
   "cell_type": "code",
   "execution_count": 310,
   "id": "08c2f925-5a4c-4dae-b08a-eebda7082832",
   "metadata": {},
   "outputs": [],
   "source": [
    "#BMI CALCULATOR"
   ]
  },
  {
   "cell_type": "code",
   "execution_count": null,
   "id": "6159ce26-4654-484c-bce8-6b8e42825a14",
   "metadata": {},
   "outputs": [],
   "source": []
  }
 ],
 "metadata": {
  "kernelspec": {
   "display_name": "Python [conda env:base] *",
   "language": "python",
   "name": "conda-base-py"
  },
  "language_info": {
   "codemirror_mode": {
    "name": "ipython",
    "version": 3
   },
   "file_extension": ".py",
   "mimetype": "text/x-python",
   "name": "python",
   "nbconvert_exporter": "python",
   "pygments_lexer": "ipython3",
   "version": "3.12.7"
  }
 },
 "nbformat": 4,
 "nbformat_minor": 5
}
